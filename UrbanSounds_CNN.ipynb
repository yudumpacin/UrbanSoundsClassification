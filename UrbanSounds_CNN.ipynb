{
  "nbformat": 4,
  "nbformat_minor": 0,
  "metadata": {
    "colab": {
      "provenance": [],
      "mount_file_id": "18V_plcT3AQ72TSOY067Q_kl2kT_2lpau",
      "authorship_tag": "ABX9TyMcPV4EyebTxsfCmLGCl5w9",
      "include_colab_link": true
    },
    "kernelspec": {
      "name": "python3",
      "display_name": "Python 3"
    },
    "language_info": {
      "name": "python"
    },
    "accelerator": "GPU"
  },
  "cells": [
    {
      "cell_type": "markdown",
      "metadata": {
        "id": "view-in-github",
        "colab_type": "text"
      },
      "source": [
        "<a href=\"https://colab.research.google.com/github/yudumpacin/UrbanSoundsClassification/blob/main/UrbanSounds_CNN.ipynb\" target=\"_parent\"><img src=\"https://colab.research.google.com/assets/colab-badge.svg\" alt=\"Open In Colab\"/></a>"
      ]
    },
    {
      "cell_type": "code",
      "execution_count": 1,
      "metadata": {
        "id": "3v5FYWe_j040"
      },
      "outputs": [],
      "source": [
        "import os\n",
        "import matplotlib.pyplot as plt\n",
        "import numpy as np\n",
        "import tensorflow as tf\n",
        "import cv2 as cv\n",
        "import pickle"
      ]
    },
    {
      "cell_type": "code",
      "source": [
        "X_train = pickle.load(open(\"/content/drive/MyDrive/UrbanSounds/X_train.pickle\", \"rb\"))\n",
        "y_train = pickle.load(open(\"/content/drive/MyDrive/UrbanSounds/y_train.pickle\", \"rb\"))\n",
        "\n",
        "X_val = pickle.load(open(\"/content/drive/MyDrive/UrbanSounds/X_val.pickle\", \"rb\"))\n",
        "y_val = pickle.load(open(\"/content/drive/MyDrive/UrbanSounds/y_val.pickle\", \"rb\"))\n",
        "\n",
        "X_test = pickle.load(open(\"/content/drive/MyDrive/UrbanSounds/X_test.pickle\", \"rb\"))\n",
        "y_test = pickle.load(open(\"/content/drive/MyDrive/UrbanSounds/y_test.pickle\", \"rb\"))"
      ],
      "metadata": {
        "id": "lV1ABvAkmm_0"
      },
      "execution_count": 2,
      "outputs": []
    },
    {
      "cell_type": "code",
      "source": [
        "#create sequential model\n",
        "model = tf.keras.Sequential()"
      ],
      "metadata": {
        "id": "2FFpXJ-pkEiD"
      },
      "execution_count": 13,
      "outputs": []
    },
    {
      "cell_type": "code",
      "source": [
        "# Convolution and MaxPooling for reducing pixels\n",
        "\n",
        "model.add(tf.keras.layers.Conv2D(128, kernel_size=(3,3), strides=(1,1), padding=\"same\", activation=\"relu\",input_shape=(128,128,3)))\n",
        "model.add(tf.keras.layers.MaxPool2D())\n",
        "\n",
        "model.add(tf.keras.layers.Conv2D(128, kernel_size=(3,3), strides=(1,1), padding=\"same\", activation=\"relu\"))\n",
        "model.add(tf.keras.layers.MaxPool2D())"
      ],
      "metadata": {
        "id": "bXDXi4aEkMGX"
      },
      "execution_count": 14,
      "outputs": []
    },
    {
      "cell_type": "code",
      "source": [
        "#flatten\n",
        "\n",
        "model.add(tf.keras.layers.Flatten())"
      ],
      "metadata": {
        "id": "9kZPJuLOlJov"
      },
      "execution_count": 15,
      "outputs": []
    },
    {
      "cell_type": "code",
      "source": [
        "#classification\n",
        "\n",
        "model.add(tf.keras.layers.Dense(128, activation=\"relu\"))\n",
        "model.add(tf.keras.layers.Dropout(0.5))\n",
        "\n",
        "\n",
        "model.add(tf.keras.layers.Dense(64, activation=\"relu\"))\n",
        "model.add(tf.keras.layers.Dropout(0.5))\n",
        "\n",
        "\n",
        "model.add(tf.keras.layers.Dense(128, activation=\"relu\"))\n",
        "model.add(tf.keras.layers.Dropout(0.5))"
      ],
      "metadata": {
        "id": "VdEs5Du7lfNn"
      },
      "execution_count": 16,
      "outputs": []
    },
    {
      "cell_type": "code",
      "source": [
        "#output layer\n",
        "model.add(tf.keras.layers.Dense(10, activation=\"softmax\"))"
      ],
      "metadata": {
        "id": "-2nkP4oPmdyM"
      },
      "execution_count": 17,
      "outputs": []
    },
    {
      "cell_type": "code",
      "source": [
        "model.compile(optimizer=\"adam\", loss=\"sparse_categorical_crossentropy\", metrics= [\"accuracy\"])"
      ],
      "metadata": {
        "id": "M3sJTAspmhzx"
      },
      "execution_count": 18,
      "outputs": []
    },
    {
      "cell_type": "code",
      "source": [
        "X_train.shape"
      ],
      "metadata": {
        "colab": {
          "base_uri": "https://localhost:8080/"
        },
        "id": "ZvEQkSB6obT8",
        "outputId": "6dd3b3c7-0578-436a-860f-f870a4348aad"
      },
      "execution_count": 19,
      "outputs": [
        {
          "output_type": "execute_result",
          "data": {
            "text/plain": [
              "(6985, 128, 128, 3)"
            ]
          },
          "metadata": {},
          "execution_count": 19
        }
      ]
    },
    {
      "cell_type": "code",
      "source": [
        "results = model.fit(X_train,y_train,batch_size=128, epochs=100, validation_data=(X_val,y_val))"
      ],
      "metadata": {
        "colab": {
          "base_uri": "https://localhost:8080/"
        },
        "id": "wfyzXio2nKZe",
        "outputId": "5f7cc390-663f-4721-e5cd-1a28cc80e6d1"
      },
      "execution_count": 20,
      "outputs": [
        {
          "output_type": "stream",
          "name": "stdout",
          "text": [
            "Epoch 1/100\n",
            "55/55 [==============================] - 27s 264ms/step - loss: 2.3346 - accuracy: 0.1127 - val_loss: 2.2421 - val_accuracy: 0.2142\n",
            "Epoch 2/100\n",
            "55/55 [==============================] - 11s 195ms/step - loss: 2.1749 - accuracy: 0.1752 - val_loss: 1.9828 - val_accuracy: 0.2875\n",
            "Epoch 3/100\n",
            "55/55 [==============================] - 11s 192ms/step - loss: 1.9544 - accuracy: 0.2578 - val_loss: 1.6440 - val_accuracy: 0.3597\n",
            "Epoch 4/100\n",
            "55/55 [==============================] - 10s 188ms/step - loss: 1.7099 - accuracy: 0.3616 - val_loss: 1.2607 - val_accuracy: 0.5922\n",
            "Epoch 5/100\n",
            "55/55 [==============================] - 10s 188ms/step - loss: 1.4731 - accuracy: 0.4693 - val_loss: 1.0892 - val_accuracy: 0.6586\n",
            "Epoch 6/100\n",
            "55/55 [==============================] - 10s 185ms/step - loss: 1.2948 - accuracy: 0.5397 - val_loss: 0.9544 - val_accuracy: 0.6976\n",
            "Epoch 7/100\n",
            "55/55 [==============================] - 10s 189ms/step - loss: 1.1481 - accuracy: 0.5903 - val_loss: 0.8395 - val_accuracy: 0.7331\n",
            "Epoch 8/100\n",
            "55/55 [==============================] - 10s 183ms/step - loss: 1.0302 - accuracy: 0.6311 - val_loss: 0.8132 - val_accuracy: 0.7537\n",
            "Epoch 9/100\n",
            "55/55 [==============================] - 10s 183ms/step - loss: 0.9793 - accuracy: 0.6544 - val_loss: 0.7956 - val_accuracy: 0.7526\n",
            "Epoch 10/100\n",
            "55/55 [==============================] - 10s 183ms/step - loss: 0.8836 - accuracy: 0.6901 - val_loss: 0.7167 - val_accuracy: 0.7892\n",
            "Epoch 11/100\n",
            "55/55 [==============================] - 10s 182ms/step - loss: 0.8067 - accuracy: 0.7211 - val_loss: 0.7091 - val_accuracy: 0.7778\n",
            "Epoch 12/100\n",
            "55/55 [==============================] - 10s 183ms/step - loss: 0.7252 - accuracy: 0.7503 - val_loss: 0.6685 - val_accuracy: 0.8018\n",
            "Epoch 13/100\n",
            "55/55 [==============================] - 10s 182ms/step - loss: 0.6863 - accuracy: 0.7661 - val_loss: 0.6850 - val_accuracy: 0.7938\n",
            "Epoch 14/100\n",
            "55/55 [==============================] - 10s 183ms/step - loss: 0.6599 - accuracy: 0.7718 - val_loss: 0.6343 - val_accuracy: 0.8305\n",
            "Epoch 15/100\n",
            "55/55 [==============================] - 10s 183ms/step - loss: 0.6209 - accuracy: 0.7936 - val_loss: 0.6452 - val_accuracy: 0.8316\n",
            "Epoch 16/100\n",
            "55/55 [==============================] - 10s 187ms/step - loss: 0.5631 - accuracy: 0.8123 - val_loss: 0.6309 - val_accuracy: 0.8213\n",
            "Epoch 17/100\n",
            "55/55 [==============================] - 10s 185ms/step - loss: 0.5155 - accuracy: 0.8232 - val_loss: 0.6694 - val_accuracy: 0.8225\n",
            "Epoch 18/100\n",
            "55/55 [==============================] - 10s 183ms/step - loss: 0.5001 - accuracy: 0.8276 - val_loss: 0.6368 - val_accuracy: 0.8305\n",
            "Epoch 19/100\n",
            "55/55 [==============================] - 10s 182ms/step - loss: 0.4560 - accuracy: 0.8495 - val_loss: 0.6189 - val_accuracy: 0.8396\n",
            "Epoch 20/100\n",
            "55/55 [==============================] - 10s 182ms/step - loss: 0.4679 - accuracy: 0.8414 - val_loss: 0.6446 - val_accuracy: 0.8396\n",
            "Epoch 21/100\n",
            "55/55 [==============================] - 10s 182ms/step - loss: 0.4179 - accuracy: 0.8633 - val_loss: 0.5995 - val_accuracy: 0.8499\n",
            "Epoch 22/100\n",
            "55/55 [==============================] - 10s 182ms/step - loss: 0.4259 - accuracy: 0.8627 - val_loss: 0.6151 - val_accuracy: 0.8385\n",
            "Epoch 23/100\n",
            "55/55 [==============================] - 10s 183ms/step - loss: 0.3997 - accuracy: 0.8691 - val_loss: 0.6246 - val_accuracy: 0.8454\n",
            "Epoch 24/100\n",
            "55/55 [==============================] - 10s 183ms/step - loss: 0.3712 - accuracy: 0.8770 - val_loss: 0.7082 - val_accuracy: 0.8236\n",
            "Epoch 25/100\n",
            "55/55 [==============================] - 10s 183ms/step - loss: 0.3603 - accuracy: 0.8823 - val_loss: 0.7128 - val_accuracy: 0.8247\n",
            "Epoch 26/100\n",
            "55/55 [==============================] - 10s 183ms/step - loss: 0.3861 - accuracy: 0.8773 - val_loss: 0.6648 - val_accuracy: 0.8305\n",
            "Epoch 27/100\n",
            "55/55 [==============================] - 10s 183ms/step - loss: 0.3353 - accuracy: 0.8899 - val_loss: 0.6889 - val_accuracy: 0.8396\n",
            "Epoch 28/100\n",
            "55/55 [==============================] - 10s 183ms/step - loss: 0.3394 - accuracy: 0.8866 - val_loss: 0.6955 - val_accuracy: 0.8465\n",
            "Epoch 29/100\n",
            "55/55 [==============================] - 10s 182ms/step - loss: 0.3142 - accuracy: 0.8946 - val_loss: 0.6861 - val_accuracy: 0.8522\n",
            "Epoch 30/100\n",
            "55/55 [==============================] - 10s 183ms/step - loss: 0.3184 - accuracy: 0.8981 - val_loss: 0.7083 - val_accuracy: 0.8442\n",
            "Epoch 31/100\n",
            "55/55 [==============================] - 10s 182ms/step - loss: 0.2986 - accuracy: 0.9045 - val_loss: 0.7221 - val_accuracy: 0.8419\n",
            "Epoch 32/100\n",
            "55/55 [==============================] - 10s 182ms/step - loss: 0.3040 - accuracy: 0.9029 - val_loss: 0.7256 - val_accuracy: 0.8339\n",
            "Epoch 33/100\n",
            "55/55 [==============================] - 10s 183ms/step - loss: 0.2978 - accuracy: 0.9025 - val_loss: 0.7608 - val_accuracy: 0.8396\n",
            "Epoch 34/100\n",
            "55/55 [==============================] - 10s 182ms/step - loss: 0.2761 - accuracy: 0.9079 - val_loss: 0.6959 - val_accuracy: 0.8511\n",
            "Epoch 35/100\n",
            "55/55 [==============================] - 10s 182ms/step - loss: 0.2579 - accuracy: 0.9128 - val_loss: 0.7770 - val_accuracy: 0.8431\n",
            "Epoch 36/100\n",
            "55/55 [==============================] - 10s 183ms/step - loss: 0.2733 - accuracy: 0.9072 - val_loss: 0.8028 - val_accuracy: 0.8465\n",
            "Epoch 37/100\n",
            "55/55 [==============================] - 10s 183ms/step - loss: 0.2812 - accuracy: 0.9099 - val_loss: 0.7650 - val_accuracy: 0.8499\n",
            "Epoch 38/100\n",
            "55/55 [==============================] - 10s 183ms/step - loss: 0.2753 - accuracy: 0.9091 - val_loss: 0.7196 - val_accuracy: 0.8373\n",
            "Epoch 39/100\n",
            "55/55 [==============================] - 10s 183ms/step - loss: 0.2631 - accuracy: 0.9157 - val_loss: 0.7717 - val_accuracy: 0.8316\n",
            "Epoch 40/100\n",
            "55/55 [==============================] - 10s 182ms/step - loss: 0.2670 - accuracy: 0.9102 - val_loss: 0.8029 - val_accuracy: 0.8385\n",
            "Epoch 41/100\n",
            "55/55 [==============================] - 10s 185ms/step - loss: 0.2497 - accuracy: 0.9198 - val_loss: 0.7433 - val_accuracy: 0.8557\n",
            "Epoch 42/100\n",
            "55/55 [==============================] - 10s 183ms/step - loss: 0.2584 - accuracy: 0.9175 - val_loss: 0.7233 - val_accuracy: 0.8454\n",
            "Epoch 43/100\n",
            "55/55 [==============================] - 10s 182ms/step - loss: 0.2532 - accuracy: 0.9178 - val_loss: 0.7901 - val_accuracy: 0.8442\n",
            "Epoch 44/100\n",
            "55/55 [==============================] - 10s 182ms/step - loss: 0.2371 - accuracy: 0.9218 - val_loss: 0.8553 - val_accuracy: 0.8385\n",
            "Epoch 45/100\n",
            "55/55 [==============================] - 10s 182ms/step - loss: 0.2367 - accuracy: 0.9261 - val_loss: 0.7903 - val_accuracy: 0.8373\n",
            "Epoch 46/100\n",
            "55/55 [==============================] - 10s 183ms/step - loss: 0.2247 - accuracy: 0.9243 - val_loss: 0.8532 - val_accuracy: 0.8373\n",
            "Epoch 47/100\n",
            "55/55 [==============================] - 10s 183ms/step - loss: 0.2280 - accuracy: 0.9240 - val_loss: 0.8488 - val_accuracy: 0.8431\n",
            "Epoch 48/100\n",
            "55/55 [==============================] - 10s 183ms/step - loss: 0.2416 - accuracy: 0.9223 - val_loss: 0.8542 - val_accuracy: 0.8396\n",
            "Epoch 49/100\n",
            "55/55 [==============================] - 10s 183ms/step - loss: 0.2291 - accuracy: 0.9248 - val_loss: 0.8724 - val_accuracy: 0.8419\n",
            "Epoch 50/100\n",
            "55/55 [==============================] - 10s 182ms/step - loss: 0.2287 - accuracy: 0.9270 - val_loss: 0.7788 - val_accuracy: 0.8339\n",
            "Epoch 51/100\n",
            "55/55 [==============================] - 10s 182ms/step - loss: 0.2180 - accuracy: 0.9320 - val_loss: 0.8363 - val_accuracy: 0.8328\n",
            "Epoch 52/100\n",
            "55/55 [==============================] - 10s 182ms/step - loss: 0.2111 - accuracy: 0.9320 - val_loss: 0.8247 - val_accuracy: 0.8396\n",
            "Epoch 53/100\n",
            "55/55 [==============================] - 10s 182ms/step - loss: 0.2016 - accuracy: 0.9323 - val_loss: 0.7591 - val_accuracy: 0.8454\n",
            "Epoch 54/100\n",
            "55/55 [==============================] - 10s 182ms/step - loss: 0.2170 - accuracy: 0.9336 - val_loss: 0.8723 - val_accuracy: 0.8419\n",
            "Epoch 55/100\n",
            "55/55 [==============================] - 10s 182ms/step - loss: 0.2143 - accuracy: 0.9327 - val_loss: 0.8042 - val_accuracy: 0.8385\n",
            "Epoch 56/100\n",
            "55/55 [==============================] - 10s 182ms/step - loss: 0.2052 - accuracy: 0.9314 - val_loss: 0.8500 - val_accuracy: 0.8408\n",
            "Epoch 57/100\n",
            "55/55 [==============================] - 10s 183ms/step - loss: 0.1906 - accuracy: 0.9317 - val_loss: 0.9320 - val_accuracy: 0.8442\n",
            "Epoch 58/100\n",
            "55/55 [==============================] - 10s 182ms/step - loss: 0.1922 - accuracy: 0.9334 - val_loss: 0.8664 - val_accuracy: 0.8465\n",
            "Epoch 59/100\n",
            "55/55 [==============================] - 10s 183ms/step - loss: 0.2147 - accuracy: 0.9304 - val_loss: 0.8282 - val_accuracy: 0.8316\n",
            "Epoch 60/100\n",
            "55/55 [==============================] - 10s 182ms/step - loss: 0.2039 - accuracy: 0.9326 - val_loss: 0.8237 - val_accuracy: 0.8339\n",
            "Epoch 61/100\n",
            "55/55 [==============================] - 10s 182ms/step - loss: 0.2004 - accuracy: 0.9356 - val_loss: 0.8273 - val_accuracy: 0.8328\n",
            "Epoch 62/100\n",
            "55/55 [==============================] - 10s 182ms/step - loss: 0.1937 - accuracy: 0.9392 - val_loss: 0.9220 - val_accuracy: 0.8293\n",
            "Epoch 63/100\n",
            "55/55 [==============================] - 10s 183ms/step - loss: 0.2096 - accuracy: 0.9323 - val_loss: 0.8701 - val_accuracy: 0.8477\n",
            "Epoch 64/100\n",
            "55/55 [==============================] - 10s 182ms/step - loss: 0.1865 - accuracy: 0.9394 - val_loss: 0.9702 - val_accuracy: 0.8408\n",
            "Epoch 65/100\n",
            "55/55 [==============================] - 10s 182ms/step - loss: 0.1900 - accuracy: 0.9364 - val_loss: 0.9293 - val_accuracy: 0.8465\n",
            "Epoch 66/100\n",
            "55/55 [==============================] - 10s 182ms/step - loss: 0.1834 - accuracy: 0.9361 - val_loss: 0.8727 - val_accuracy: 0.8431\n",
            "Epoch 67/100\n",
            "55/55 [==============================] - 10s 182ms/step - loss: 0.1866 - accuracy: 0.9374 - val_loss: 0.8938 - val_accuracy: 0.8419\n",
            "Epoch 68/100\n",
            "55/55 [==============================] - 10s 182ms/step - loss: 0.1782 - accuracy: 0.9429 - val_loss: 0.9179 - val_accuracy: 0.8408\n",
            "Epoch 69/100\n",
            "55/55 [==============================] - 10s 182ms/step - loss: 0.1868 - accuracy: 0.9400 - val_loss: 0.9287 - val_accuracy: 0.8454\n",
            "Epoch 70/100\n",
            "55/55 [==============================] - 10s 182ms/step - loss: 0.1995 - accuracy: 0.9374 - val_loss: 0.9221 - val_accuracy: 0.8408\n",
            "Epoch 71/100\n",
            "55/55 [==============================] - 10s 182ms/step - loss: 0.1855 - accuracy: 0.9389 - val_loss: 0.8831 - val_accuracy: 0.8328\n",
            "Epoch 72/100\n",
            "55/55 [==============================] - 10s 182ms/step - loss: 0.1813 - accuracy: 0.9392 - val_loss: 0.8758 - val_accuracy: 0.8351\n",
            "Epoch 73/100\n",
            "55/55 [==============================] - 10s 182ms/step - loss: 0.1657 - accuracy: 0.9486 - val_loss: 0.9062 - val_accuracy: 0.8282\n",
            "Epoch 74/100\n",
            "55/55 [==============================] - 10s 182ms/step - loss: 0.1703 - accuracy: 0.9435 - val_loss: 0.9199 - val_accuracy: 0.8328\n",
            "Epoch 75/100\n",
            "55/55 [==============================] - 10s 183ms/step - loss: 0.1936 - accuracy: 0.9377 - val_loss: 0.9263 - val_accuracy: 0.8179\n",
            "Epoch 76/100\n",
            "55/55 [==============================] - 10s 182ms/step - loss: 0.1780 - accuracy: 0.9397 - val_loss: 0.8848 - val_accuracy: 0.8385\n",
            "Epoch 77/100\n",
            "55/55 [==============================] - 10s 182ms/step - loss: 0.1704 - accuracy: 0.9426 - val_loss: 1.0485 - val_accuracy: 0.8305\n",
            "Epoch 78/100\n",
            "55/55 [==============================] - 10s 182ms/step - loss: 0.1693 - accuracy: 0.9439 - val_loss: 0.9842 - val_accuracy: 0.8328\n",
            "Epoch 79/100\n",
            "55/55 [==============================] - 10s 182ms/step - loss: 0.1883 - accuracy: 0.9386 - val_loss: 0.9458 - val_accuracy: 0.8454\n",
            "Epoch 80/100\n",
            "55/55 [==============================] - 10s 182ms/step - loss: 0.1793 - accuracy: 0.9419 - val_loss: 0.8866 - val_accuracy: 0.8419\n",
            "Epoch 81/100\n",
            "55/55 [==============================] - 10s 182ms/step - loss: 0.1765 - accuracy: 0.9399 - val_loss: 0.9729 - val_accuracy: 0.8385\n",
            "Epoch 82/100\n",
            "55/55 [==============================] - 10s 182ms/step - loss: 0.1717 - accuracy: 0.9423 - val_loss: 0.9576 - val_accuracy: 0.8339\n",
            "Epoch 83/100\n",
            "55/55 [==============================] - 10s 182ms/step - loss: 0.1901 - accuracy: 0.9410 - val_loss: 0.9817 - val_accuracy: 0.8408\n",
            "Epoch 84/100\n",
            "55/55 [==============================] - 10s 183ms/step - loss: 0.1769 - accuracy: 0.9426 - val_loss: 0.8817 - val_accuracy: 0.8396\n",
            "Epoch 85/100\n",
            "55/55 [==============================] - 10s 182ms/step - loss: 0.1677 - accuracy: 0.9413 - val_loss: 0.9052 - val_accuracy: 0.8419\n",
            "Epoch 86/100\n",
            "55/55 [==============================] - 10s 182ms/step - loss: 0.1655 - accuracy: 0.9436 - val_loss: 0.8626 - val_accuracy: 0.8419\n",
            "Epoch 87/100\n",
            "55/55 [==============================] - 10s 182ms/step - loss: 0.1673 - accuracy: 0.9456 - val_loss: 0.8875 - val_accuracy: 0.8454\n",
            "Epoch 88/100\n",
            "55/55 [==============================] - 10s 182ms/step - loss: 0.1685 - accuracy: 0.9435 - val_loss: 1.0394 - val_accuracy: 0.8396\n",
            "Epoch 89/100\n",
            "55/55 [==============================] - 10s 182ms/step - loss: 0.1650 - accuracy: 0.9455 - val_loss: 0.9661 - val_accuracy: 0.8293\n",
            "Epoch 90/100\n",
            "55/55 [==============================] - 10s 182ms/step - loss: 0.1788 - accuracy: 0.9440 - val_loss: 1.0198 - val_accuracy: 0.8305\n",
            "Epoch 91/100\n",
            "55/55 [==============================] - 10s 182ms/step - loss: 0.1685 - accuracy: 0.9435 - val_loss: 0.9455 - val_accuracy: 0.8499\n",
            "Epoch 92/100\n",
            "55/55 [==============================] - 10s 182ms/step - loss: 0.1675 - accuracy: 0.9476 - val_loss: 0.9193 - val_accuracy: 0.8362\n",
            "Epoch 93/100\n",
            "55/55 [==============================] - 10s 182ms/step - loss: 0.1593 - accuracy: 0.9483 - val_loss: 0.9166 - val_accuracy: 0.8408\n",
            "Epoch 94/100\n",
            "55/55 [==============================] - 10s 182ms/step - loss: 0.1534 - accuracy: 0.9510 - val_loss: 0.9433 - val_accuracy: 0.8328\n",
            "Epoch 95/100\n",
            "55/55 [==============================] - 10s 182ms/step - loss: 0.1626 - accuracy: 0.9480 - val_loss: 0.9626 - val_accuracy: 0.8442\n",
            "Epoch 96/100\n",
            "55/55 [==============================] - 10s 182ms/step - loss: 0.1756 - accuracy: 0.9413 - val_loss: 0.8736 - val_accuracy: 0.8259\n",
            "Epoch 97/100\n",
            "55/55 [==============================] - 10s 182ms/step - loss: 0.1659 - accuracy: 0.9417 - val_loss: 0.9648 - val_accuracy: 0.8419\n",
            "Epoch 98/100\n",
            "55/55 [==============================] - 10s 182ms/step - loss: 0.1614 - accuracy: 0.9457 - val_loss: 0.9422 - val_accuracy: 0.8442\n",
            "Epoch 99/100\n",
            "55/55 [==============================] - 10s 182ms/step - loss: 0.1475 - accuracy: 0.9523 - val_loss: 1.0006 - val_accuracy: 0.8328\n",
            "Epoch 100/100\n",
            "55/55 [==============================] - 10s 182ms/step - loss: 0.1576 - accuracy: 0.9457 - val_loss: 1.0233 - val_accuracy: 0.8408\n"
          ]
        }
      ]
    },
    {
      "cell_type": "code",
      "source": [
        "plt.plot(results.history[\"loss\"], label= \"Train\")\n",
        "\n",
        "plt.plot(results.history[\"val_loss\"], label= \"Test\")\n",
        "\n",
        "plt.legend()\n",
        "\n",
        "plt.xlabel(\"Epochs\")\n",
        "plt.ylabel(\"Loss\")\n",
        "\n",
        "plt.show()\n"
      ],
      "metadata": {
        "id": "hdm9gf1PoGz6"
      },
      "execution_count": 20,
      "outputs": []
    },
    {
      "cell_type": "code",
      "source": [
        "model.evaluate(X_test,y_test)"
      ],
      "metadata": {
        "colab": {
          "base_uri": "https://localhost:8080/"
        },
        "id": "riXSd4CQoNov",
        "outputId": "2e5415c2-6011-469b-cc80-cf155020f809"
      },
      "execution_count": 21,
      "outputs": [
        {
          "output_type": "stream",
          "name": "stdout",
          "text": [
            "28/28 [==============================] - 1s 28ms/step - loss: 1.0856 - accuracy: 0.8272\n"
          ]
        },
        {
          "output_type": "execute_result",
          "data": {
            "text/plain": [
              "[1.0855822563171387, 0.8272311091423035]"
            ]
          },
          "metadata": {},
          "execution_count": 21
        }
      ]
    }
  ]
}